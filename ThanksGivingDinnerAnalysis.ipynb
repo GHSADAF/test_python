{
 "cells": [
  {
   "cell_type": "code",
   "execution_count": 15,
   "metadata": {
    "collapsed": true
   },
   "outputs": [],
   "source": [
    "import pandas as pd\n"
   ]
  },
  {
   "cell_type": "code",
   "execution_count": 16,
   "metadata": {
    "collapsed": false
   },
   "outputs": [],
   "source": [
    "data = pd.read_csv(\"thanksgiving.csv\", encoding= \"Latin-1\")"
   ]
  },
  {
   "cell_type": "code",
   "execution_count": 17,
   "metadata": {
    "collapsed": false
   },
   "outputs": [
    {
     "data": {
      "text/html": [
       "<div>\n",
       "<table border=\"1\" class=\"dataframe\">\n",
       "  <thead>\n",
       "    <tr style=\"text-align: right;\">\n",
       "      <th></th>\n",
       "      <th>RespondentID</th>\n",
       "      <th>Do you celebrate Thanksgiving?</th>\n",
       "      <th>What is typically the main dish at your Thanksgiving dinner?</th>\n",
       "      <th>What is typically the main dish at your Thanksgiving dinner? - Other (please specify)</th>\n",
       "      <th>How is the main dish typically cooked?</th>\n",
       "      <th>How is the main dish typically cooked? - Other (please specify)</th>\n",
       "      <th>What kind of stuffing/dressing do you typically have?</th>\n",
       "      <th>What kind of stuffing/dressing do you typically have? - Other (please specify)</th>\n",
       "      <th>What type of cranberry saucedo you typically have?</th>\n",
       "      <th>What type of cranberry saucedo you typically have? - Other (please specify)</th>\n",
       "      <th>...</th>\n",
       "      <th>Have you ever tried to meet up with hometown friends on Thanksgiving night?</th>\n",
       "      <th>Have you ever attended a \"Friendsgiving?\"</th>\n",
       "      <th>Will you shop any Black Friday sales on Thanksgiving Day?</th>\n",
       "      <th>Do you work in retail?</th>\n",
       "      <th>Will you employer make you work on Black Friday?</th>\n",
       "      <th>How would you describe where you live?</th>\n",
       "      <th>Age</th>\n",
       "      <th>What is your gender?</th>\n",
       "      <th>How much total combined money did all members of your HOUSEHOLD earn last year?</th>\n",
       "      <th>US Region</th>\n",
       "    </tr>\n",
       "  </thead>\n",
       "  <tbody>\n",
       "    <tr>\n",
       "      <th>0</th>\n",
       "      <td>4337954960</td>\n",
       "      <td>Yes</td>\n",
       "      <td>Turkey</td>\n",
       "      <td>NaN</td>\n",
       "      <td>Baked</td>\n",
       "      <td>NaN</td>\n",
       "      <td>Bread-based</td>\n",
       "      <td>NaN</td>\n",
       "      <td>None</td>\n",
       "      <td>NaN</td>\n",
       "      <td>...</td>\n",
       "      <td>Yes</td>\n",
       "      <td>No</td>\n",
       "      <td>No</td>\n",
       "      <td>No</td>\n",
       "      <td>NaN</td>\n",
       "      <td>Suburban</td>\n",
       "      <td>18 - 29</td>\n",
       "      <td>Male</td>\n",
       "      <td>$75,000 to $99,999</td>\n",
       "      <td>Middle Atlantic</td>\n",
       "    </tr>\n",
       "    <tr>\n",
       "      <th>1</th>\n",
       "      <td>4337951949</td>\n",
       "      <td>Yes</td>\n",
       "      <td>Turkey</td>\n",
       "      <td>NaN</td>\n",
       "      <td>Baked</td>\n",
       "      <td>NaN</td>\n",
       "      <td>Bread-based</td>\n",
       "      <td>NaN</td>\n",
       "      <td>Other (please specify)</td>\n",
       "      <td>Homemade cranberry gelatin ring</td>\n",
       "      <td>...</td>\n",
       "      <td>No</td>\n",
       "      <td>No</td>\n",
       "      <td>Yes</td>\n",
       "      <td>No</td>\n",
       "      <td>NaN</td>\n",
       "      <td>Rural</td>\n",
       "      <td>18 - 29</td>\n",
       "      <td>Female</td>\n",
       "      <td>$50,000 to $74,999</td>\n",
       "      <td>East South Central</td>\n",
       "    </tr>\n",
       "    <tr>\n",
       "      <th>2</th>\n",
       "      <td>4337935621</td>\n",
       "      <td>Yes</td>\n",
       "      <td>Turkey</td>\n",
       "      <td>NaN</td>\n",
       "      <td>Roasted</td>\n",
       "      <td>NaN</td>\n",
       "      <td>Rice-based</td>\n",
       "      <td>NaN</td>\n",
       "      <td>Homemade</td>\n",
       "      <td>NaN</td>\n",
       "      <td>...</td>\n",
       "      <td>Yes</td>\n",
       "      <td>Yes</td>\n",
       "      <td>Yes</td>\n",
       "      <td>No</td>\n",
       "      <td>NaN</td>\n",
       "      <td>Suburban</td>\n",
       "      <td>18 - 29</td>\n",
       "      <td>Male</td>\n",
       "      <td>$0 to $9,999</td>\n",
       "      <td>Mountain</td>\n",
       "    </tr>\n",
       "    <tr>\n",
       "      <th>3</th>\n",
       "      <td>4337933040</td>\n",
       "      <td>Yes</td>\n",
       "      <td>Turkey</td>\n",
       "      <td>NaN</td>\n",
       "      <td>Baked</td>\n",
       "      <td>NaN</td>\n",
       "      <td>Bread-based</td>\n",
       "      <td>NaN</td>\n",
       "      <td>Homemade</td>\n",
       "      <td>NaN</td>\n",
       "      <td>...</td>\n",
       "      <td>Yes</td>\n",
       "      <td>No</td>\n",
       "      <td>No</td>\n",
       "      <td>No</td>\n",
       "      <td>NaN</td>\n",
       "      <td>Urban</td>\n",
       "      <td>30 - 44</td>\n",
       "      <td>Male</td>\n",
       "      <td>$200,000 and up</td>\n",
       "      <td>Pacific</td>\n",
       "    </tr>\n",
       "    <tr>\n",
       "      <th>4</th>\n",
       "      <td>4337931983</td>\n",
       "      <td>Yes</td>\n",
       "      <td>Tofurkey</td>\n",
       "      <td>NaN</td>\n",
       "      <td>Baked</td>\n",
       "      <td>NaN</td>\n",
       "      <td>Bread-based</td>\n",
       "      <td>NaN</td>\n",
       "      <td>Canned</td>\n",
       "      <td>NaN</td>\n",
       "      <td>...</td>\n",
       "      <td>Yes</td>\n",
       "      <td>No</td>\n",
       "      <td>No</td>\n",
       "      <td>No</td>\n",
       "      <td>NaN</td>\n",
       "      <td>Urban</td>\n",
       "      <td>30 - 44</td>\n",
       "      <td>Male</td>\n",
       "      <td>$100,000 to $124,999</td>\n",
       "      <td>Pacific</td>\n",
       "    </tr>\n",
       "  </tbody>\n",
       "</table>\n",
       "<p>5 rows × 65 columns</p>\n",
       "</div>"
      ],
      "text/plain": [
       "   RespondentID Do you celebrate Thanksgiving?  \\\n",
       "0    4337954960                            Yes   \n",
       "1    4337951949                            Yes   \n",
       "2    4337935621                            Yes   \n",
       "3    4337933040                            Yes   \n",
       "4    4337931983                            Yes   \n",
       "\n",
       "  What is typically the main dish at your Thanksgiving dinner?  \\\n",
       "0                                             Turkey             \n",
       "1                                             Turkey             \n",
       "2                                             Turkey             \n",
       "3                                             Turkey             \n",
       "4                                           Tofurkey             \n",
       "\n",
       "  What is typically the main dish at your Thanksgiving dinner? - Other (please specify)  \\\n",
       "0                                                NaN                                      \n",
       "1                                                NaN                                      \n",
       "2                                                NaN                                      \n",
       "3                                                NaN                                      \n",
       "4                                                NaN                                      \n",
       "\n",
       "  How is the main dish typically cooked?  \\\n",
       "0                                  Baked   \n",
       "1                                  Baked   \n",
       "2                                Roasted   \n",
       "3                                  Baked   \n",
       "4                                  Baked   \n",
       "\n",
       "  How is the main dish typically cooked? - Other (please specify)  \\\n",
       "0                                                NaN                \n",
       "1                                                NaN                \n",
       "2                                                NaN                \n",
       "3                                                NaN                \n",
       "4                                                NaN                \n",
       "\n",
       "  What kind of stuffing/dressing do you typically have?  \\\n",
       "0                                        Bread-based      \n",
       "1                                        Bread-based      \n",
       "2                                         Rice-based      \n",
       "3                                        Bread-based      \n",
       "4                                        Bread-based      \n",
       "\n",
       "  What kind of stuffing/dressing do you typically have? - Other (please specify)  \\\n",
       "0                                                NaN                               \n",
       "1                                                NaN                               \n",
       "2                                                NaN                               \n",
       "3                                                NaN                               \n",
       "4                                                NaN                               \n",
       "\n",
       "  What type of cranberry saucedo you typically have?  \\\n",
       "0                                               None   \n",
       "1                             Other (please specify)   \n",
       "2                                           Homemade   \n",
       "3                                           Homemade   \n",
       "4                                             Canned   \n",
       "\n",
       "  What type of cranberry saucedo you typically have? - Other (please specify)  \\\n",
       "0                                                NaN                            \n",
       "1                    Homemade cranberry gelatin ring                            \n",
       "2                                                NaN                            \n",
       "3                                                NaN                            \n",
       "4                                                NaN                            \n",
       "\n",
       "          ...          \\\n",
       "0         ...           \n",
       "1         ...           \n",
       "2         ...           \n",
       "3         ...           \n",
       "4         ...           \n",
       "\n",
       "  Have you ever tried to meet up with hometown friends on Thanksgiving night?  \\\n",
       "0                                                Yes                            \n",
       "1                                                 No                            \n",
       "2                                                Yes                            \n",
       "3                                                Yes                            \n",
       "4                                                Yes                            \n",
       "\n",
       "  Have you ever attended a \"Friendsgiving?\"  \\\n",
       "0                                        No   \n",
       "1                                        No   \n",
       "2                                       Yes   \n",
       "3                                        No   \n",
       "4                                        No   \n",
       "\n",
       "  Will you shop any Black Friday sales on Thanksgiving Day?  \\\n",
       "0                                                 No          \n",
       "1                                                Yes          \n",
       "2                                                Yes          \n",
       "3                                                 No          \n",
       "4                                                 No          \n",
       "\n",
       "  Do you work in retail? Will you employer make you work on Black Friday?  \\\n",
       "0                     No                                              NaN   \n",
       "1                     No                                              NaN   \n",
       "2                     No                                              NaN   \n",
       "3                     No                                              NaN   \n",
       "4                     No                                              NaN   \n",
       "\n",
       "  How would you describe where you live?      Age What is your gender?  \\\n",
       "0                               Suburban  18 - 29                 Male   \n",
       "1                                  Rural  18 - 29               Female   \n",
       "2                               Suburban  18 - 29                 Male   \n",
       "3                                  Urban  30 - 44                 Male   \n",
       "4                                  Urban  30 - 44                 Male   \n",
       "\n",
       "  How much total combined money did all members of your HOUSEHOLD earn last year?  \\\n",
       "0                                 $75,000 to $99,999                                \n",
       "1                                 $50,000 to $74,999                                \n",
       "2                                       $0 to $9,999                                \n",
       "3                                    $200,000 and up                                \n",
       "4                               $100,000 to $124,999                                \n",
       "\n",
       "            US Region  \n",
       "0     Middle Atlantic  \n",
       "1  East South Central  \n",
       "2            Mountain  \n",
       "3             Pacific  \n",
       "4             Pacific  \n",
       "\n",
       "[5 rows x 65 columns]"
      ]
     },
     "execution_count": 17,
     "metadata": {},
     "output_type": "execute_result"
    }
   ],
   "source": [
    "data.head()"
   ]
  },
  {
   "cell_type": "code",
   "execution_count": 18,
   "metadata": {
    "collapsed": false
   },
   "outputs": [
    {
     "data": {
      "text/plain": [
       "Index([u'RespondentID', u'Do you celebrate Thanksgiving?',\n",
       "       u'What is typically the main dish at your Thanksgiving dinner?',\n",
       "       u'What is typically the main dish at your Thanksgiving dinner? - Other (please specify)',\n",
       "       u'How is the main dish typically cooked?',\n",
       "       u'How is the main dish typically cooked? - Other (please specify)',\n",
       "       u'What kind of stuffing/dressing do you typically have?',\n",
       "       u'What kind of stuffing/dressing do you typically have? - Other (please specify)',\n",
       "       u'What type of cranberry saucedo you typically have?',\n",
       "       u'What type of cranberry saucedo you typically have? - Other (please specify)',\n",
       "       u'Do you typically have gravy?',\n",
       "       u'Which of these side dishes aretypically served at your Thanksgiving dinner? Please select all that apply. - Brussel sprouts',\n",
       "       u'Which of these side dishes aretypically served at your Thanksgiving dinner? Please select all that apply. - Carrots',\n",
       "       u'Which of these side dishes aretypically served at your Thanksgiving dinner? Please select all that apply. - Cauliflower',\n",
       "       u'Which of these side dishes aretypically served at your Thanksgiving dinner? Please select all that apply. - Corn',\n",
       "       u'Which of these side dishes aretypically served at your Thanksgiving dinner? Please select all that apply. - Cornbread',\n",
       "       u'Which of these side dishes aretypically served at your Thanksgiving dinner? Please select all that apply. - Fruit salad',\n",
       "       u'Which of these side dishes aretypically served at your Thanksgiving dinner? Please select all that apply. - Green beans/green bean casserole',\n",
       "       u'Which of these side dishes aretypically served at your Thanksgiving dinner? Please select all that apply. - Macaroni and cheese',\n",
       "       u'Which of these side dishes aretypically served at your Thanksgiving dinner? Please select all that apply. - Mashed potatoes',\n",
       "       u'Which of these side dishes aretypically served at your Thanksgiving dinner? Please select all that apply. - Rolls/biscuits',\n",
       "       u'Which of these side dishes aretypically served at your Thanksgiving dinner? Please select all that apply. - Squash',\n",
       "       u'Which of these side dishes aretypically served at your Thanksgiving dinner? Please select all that apply. - Vegetable salad',\n",
       "       u'Which of these side dishes aretypically served at your Thanksgiving dinner? Please select all that apply. - Yams/sweet potato casserole',\n",
       "       u'Which of these side dishes aretypically served at your Thanksgiving dinner? Please select all that apply. - Other (please specify)',\n",
       "       u'Which of these side dishes aretypically served at your Thanksgiving dinner? Please select all that apply. - Other (please specify).1',\n",
       "       u'Which type of pie is typically served at your Thanksgiving dinner? Please select all that apply. - Apple',\n",
       "       u'Which type of pie is typically served at your Thanksgiving dinner? Please select all that apply. - Buttermilk',\n",
       "       u'Which type of pie is typically served at your Thanksgiving dinner? Please select all that apply. - Cherry',\n",
       "       u'Which type of pie is typically served at your Thanksgiving dinner? Please select all that apply. - Chocolate',\n",
       "       u'Which type of pie is typically served at your Thanksgiving dinner? Please select all that apply. - Coconut cream',\n",
       "       u'Which type of pie is typically served at your Thanksgiving dinner? Please select all that apply. - Key lime',\n",
       "       u'Which type of pie is typically served at your Thanksgiving dinner? Please select all that apply. - Peach',\n",
       "       u'Which type of pie is typically served at your Thanksgiving dinner? Please select all that apply. - Pecan',\n",
       "       u'Which type of pie is typically served at your Thanksgiving dinner? Please select all that apply. - Pumpkin',\n",
       "       u'Which type of pie is typically served at your Thanksgiving dinner? Please select all that apply. - Sweet Potato',\n",
       "       u'Which type of pie is typically served at your Thanksgiving dinner? Please select all that apply. - None',\n",
       "       u'Which type of pie is typically served at your Thanksgiving dinner? Please select all that apply. - Other (please specify)',\n",
       "       u'Which type of pie is typically served at your Thanksgiving dinner? Please select all that apply. - Other (please specify).1',\n",
       "       u'Which of these desserts do you typically have at Thanksgiving dinner? Please select all that apply.   - Apple cobbler',\n",
       "       u'Which of these desserts do you typically have at Thanksgiving dinner? Please select all that apply.   - Blondies',\n",
       "       u'Which of these desserts do you typically have at Thanksgiving dinner? Please select all that apply.   - Brownies',\n",
       "       u'Which of these desserts do you typically have at Thanksgiving dinner? Please select all that apply.   - Carrot cake',\n",
       "       u'Which of these desserts do you typically have at Thanksgiving dinner? Please select all that apply.   - Cheesecake',\n",
       "       u'Which of these desserts do you typically have at Thanksgiving dinner? Please select all that apply.   - Cookies',\n",
       "       u'Which of these desserts do you typically have at Thanksgiving dinner? Please select all that apply.   - Fudge',\n",
       "       u'Which of these desserts do you typically have at Thanksgiving dinner? Please select all that apply.   - Ice cream',\n",
       "       u'Which of these desserts do you typically have at Thanksgiving dinner? Please select all that apply.   - Peach cobbler',\n",
       "       u'Which of these desserts do you typically have at Thanksgiving dinner? Please select all that apply.   - None',\n",
       "       u'Which of these desserts do you typically have at Thanksgiving dinner? Please select all that apply.   - Other (please specify)',\n",
       "       u'Which of these desserts do you typically have at Thanksgiving dinner? Please select all that apply.   - Other (please specify).1',\n",
       "       u'Do you typically pray before or after the Thanksgiving meal?',\n",
       "       u'How far will you travel for Thanksgiving?',\n",
       "       u'Will you watch any of the following programs on Thanksgiving? Please select all that apply. - Macy's Parade',\n",
       "       u'What's the age cutoff at your \"kids' table\" at Thanksgiving?',\n",
       "       u'Have you ever tried to meet up with hometown friends on Thanksgiving night?',\n",
       "       u'Have you ever attended a \"Friendsgiving?\"',\n",
       "       u'Will you shop any Black Friday sales on Thanksgiving Day?',\n",
       "       u'Do you work in retail?',\n",
       "       u'Will you employer make you work on Black Friday?',\n",
       "       u'How would you describe where you live?', u'Age',\n",
       "       u'What is your gender?',\n",
       "       u'How much total combined money did all members of your HOUSEHOLD earn last year?',\n",
       "       u'US Region'],\n",
       "      dtype='object')"
      ]
     },
     "execution_count": 18,
     "metadata": {},
     "output_type": "execute_result"
    }
   ],
   "source": [
    "data.columns"
   ]
  },
  {
   "cell_type": "code",
   "execution_count": 19,
   "metadata": {
    "collapsed": false
   },
   "outputs": [
    {
     "data": {
      "text/plain": [
       "Yes    980\n",
       "No      78\n",
       "Name: Do you celebrate Thanksgiving?, dtype: int64"
      ]
     },
     "execution_count": 19,
     "metadata": {},
     "output_type": "execute_result"
    }
   ],
   "source": [
    "data[\"Do you celebrate Thanksgiving?\"].value_counts()"
   ]
  },
  {
   "cell_type": "code",
   "execution_count": 20,
   "metadata": {
    "collapsed": false
   },
   "outputs": [
    {
     "data": {
      "text/plain": [
       "Female    544\n",
       "Male      481\n",
       "Name: What is your gender?, dtype: int64"
      ]
     },
     "execution_count": 20,
     "metadata": {},
     "output_type": "execute_result"
    }
   ],
   "source": [
    "data[\"What is your gender?\"].value_counts()"
   ]
  },
  {
   "cell_type": "code",
   "execution_count": 21,
   "metadata": {
    "collapsed": false
   },
   "outputs": [
    {
     "data": {
      "text/plain": [
       "Blondies    16\n",
       "Name: Which of these desserts do you typically have at Thanksgiving dinner? Please select all that apply.   - Blondies, dtype: int64"
      ]
     },
     "execution_count": 21,
     "metadata": {},
     "output_type": "execute_result"
    }
   ],
   "source": [
    "data[\"Which of these desserts do you typically have at Thanksgiving dinner? Please select all that apply.   - Blondies\"].value_counts()"
   ]
  },
  {
   "cell_type": "code",
   "execution_count": 22,
   "metadata": {
    "collapsed": false
   },
   "outputs": [
    {
     "data": {
      "text/plain": [
       "Apple cobbler    110\n",
       "Name: Which of these desserts do you typically have at Thanksgiving dinner? Please select all that apply.   - Apple cobbler, dtype: int64"
      ]
     },
     "execution_count": 22,
     "metadata": {},
     "output_type": "execute_result"
    }
   ],
   "source": [
    "data[\"Which of these desserts do you typically have at Thanksgiving dinner? Please select all that apply.   - Apple cobbler\"].value_counts()"
   ]
  },
  {
   "cell_type": "code",
   "execution_count": 23,
   "metadata": {
    "collapsed": false
   },
   "outputs": [
    {
     "data": {
      "text/plain": [
       "Carrot cake    72\n",
       "Name: Which of these desserts do you typically have at Thanksgiving dinner? Please select all that apply.   - Carrot cake, dtype: int64"
      ]
     },
     "execution_count": 23,
     "metadata": {},
     "output_type": "execute_result"
    }
   ],
   "source": [
    "data[\"Which of these desserts do you typically have at Thanksgiving dinner? Please select all that apply.   - Carrot cake\"].value_counts()"
   ]
  },
  {
   "cell_type": "code",
   "execution_count": 24,
   "metadata": {
    "collapsed": false
   },
   "outputs": [
    {
     "data": {
      "text/plain": [
       "Fudge    43\n",
       "Name: Which of these desserts do you typically have at Thanksgiving dinner? Please select all that apply.   - Fudge, dtype: int64"
      ]
     },
     "execution_count": 24,
     "metadata": {},
     "output_type": "execute_result"
    }
   ],
   "source": [
    "data[\"Which of these desserts do you typically have at Thanksgiving dinner? Please select all that apply.   - Fudge\"].value_counts()"
   ]
  },
  {
   "cell_type": "code",
   "execution_count": 25,
   "metadata": {
    "collapsed": false
   },
   "outputs": [
    {
     "data": {
      "text/plain": [
       "None    295\n",
       "Name: Which of these desserts do you typically have at Thanksgiving dinner? Please select all that apply.   - None, dtype: int64"
      ]
     },
     "execution_count": 25,
     "metadata": {},
     "output_type": "execute_result"
    }
   ],
   "source": [
    "data[\"Which of these desserts do you typically have at Thanksgiving dinner? Please select all that apply.   - None\"].value_counts()"
   ]
  },
  {
   "cell_type": "code",
   "execution_count": 26,
   "metadata": {
    "collapsed": false
   },
   "outputs": [
    {
     "data": {
      "text/plain": [
       "Cookies    204\n",
       "Name: Which of these desserts do you typically have at Thanksgiving dinner? Please select all that apply.   - Cookies, dtype: int64"
      ]
     },
     "execution_count": 26,
     "metadata": {},
     "output_type": "execute_result"
    }
   ],
   "source": [
    "data [\"Which of these desserts do you typically have at Thanksgiving dinner? Please select all that apply.   - Cookies\"].value_counts()"
   ]
  },
  {
   "cell_type": "code",
   "execution_count": 27,
   "metadata": {
    "collapsed": false
   },
   "outputs": [
    {
     "data": {
      "text/plain": [
       "Ice cream    266\n",
       "Name: Which of these desserts do you typically have at Thanksgiving dinner? Please select all that apply.   - Ice cream, dtype: int64"
      ]
     },
     "execution_count": 27,
     "metadata": {},
     "output_type": "execute_result"
    }
   ],
   "source": [
    "data['Which of these desserts do you typically have at Thanksgiving dinner? Please select all that apply.   - Ice cream'].value_counts()"
   ]
  },
  {
   "cell_type": "code",
   "execution_count": 28,
   "metadata": {
    "collapsed": false
   },
   "outputs": [
    {
     "data": {
      "text/plain": [
       "Cheesecake    191\n",
       "Name: Which of these desserts do you typically have at Thanksgiving dinner? Please select all that apply.   - Cheesecake, dtype: int64"
      ]
     },
     "execution_count": 28,
     "metadata": {},
     "output_type": "execute_result"
    }
   ],
   "source": [
    "data['Which of these desserts do you typically have at Thanksgiving dinner? Please select all that apply.   - Cheesecake'].value_counts()"
   ]
  },
  {
   "cell_type": "code",
   "execution_count": 29,
   "metadata": {
    "collapsed": false
   },
   "outputs": [
    {
     "data": {
      "text/plain": [
       "Other (please specify)    134\n",
       "Name: Which of these desserts do you typically have at Thanksgiving dinner? Please select all that apply.   - Other (please specify), dtype: int64"
      ]
     },
     "execution_count": 29,
     "metadata": {},
     "output_type": "execute_result"
    }
   ],
   "source": [
    "data['Which of these desserts do you typically have at Thanksgiving dinner? Please select all that apply.   - Other (please specify)'].value_counts()"
   ]
  },
  {
   "cell_type": "code",
   "execution_count": 30,
   "metadata": {
    "collapsed": false
   },
   "outputs": [
    {
     "data": {
      "text/plain": [
       "Yes              43\n",
       "No               20\n",
       "Doesn't apply     7\n",
       "Name: Will you employer make you work on Black Friday?, dtype: int64"
      ]
     },
     "execution_count": 30,
     "metadata": {},
     "output_type": "execute_result"
    }
   ],
   "source": [
    "data['Will you employer make you work on Black Friday?'].value_counts()"
   ]
  },
  {
   "cell_type": "code",
   "execution_count": 31,
   "metadata": {
    "collapsed": false
   },
   "outputs": [],
   "source": [
    "data = data[data['Do you celebrate Thanksgiving?'] != 'No']"
   ]
  },
  {
   "cell_type": "code",
   "execution_count": 32,
   "metadata": {
    "collapsed": false
   },
   "outputs": [
    {
     "data": {
      "text/plain": [
       "Yes    980\n",
       "Name: Do you celebrate Thanksgiving?, dtype: int64"
      ]
     },
     "execution_count": 32,
     "metadata": {},
     "output_type": "execute_result"
    }
   ],
   "source": [
    "data[\"Do you celebrate Thanksgiving?\"].value_counts()"
   ]
  },
  {
   "cell_type": "code",
   "execution_count": 33,
   "metadata": {
    "collapsed": false
   },
   "outputs": [
    {
     "data": {
      "text/plain": [
       "Turkey                    859\n",
       "Other (please specify)     35\n",
       "Ham/Pork                   29\n",
       "Tofurkey                   20\n",
       "Chicken                    12\n",
       "Roast beef                 11\n",
       "I don't know                5\n",
       "Turducken                   3\n",
       "Name: What is typically the main dish at your Thanksgiving dinner?, dtype: int64"
      ]
     },
     "execution_count": 33,
     "metadata": {},
     "output_type": "execute_result"
    }
   ],
   "source": [
    "data[\"What is typically the main dish at your Thanksgiving dinner?\"].value_counts()"
   ]
  },
  {
   "cell_type": "code",
   "execution_count": 34,
   "metadata": {
    "collapsed": false
   },
   "outputs": [],
   "source": [
    "data = data[data['What is typically the main dish at your Thanksgiving dinner?'] == 'Tofurkey']"
   ]
  },
  {
   "cell_type": "code",
   "execution_count": 35,
   "metadata": {
    "collapsed": false
   },
   "outputs": [
    {
     "name": "stdout",
     "output_type": "stream",
     "text": [
      "4      Tofurkey\n",
      "33     Tofurkey\n",
      "69     Tofurkey\n",
      "72     Tofurkey\n",
      "77     Tofurkey\n",
      "145    Tofurkey\n",
      "175    Tofurkey\n",
      "218    Tofurkey\n",
      "243    Tofurkey\n",
      "275    Tofurkey\n",
      "393    Tofurkey\n",
      "399    Tofurkey\n",
      "571    Tofurkey\n",
      "594    Tofurkey\n",
      "628    Tofurkey\n",
      "774    Tofurkey\n",
      "820    Tofurkey\n",
      "837    Tofurkey\n",
      "860    Tofurkey\n",
      "953    Tofurkey\n",
      "Name: What is typically the main dish at your Thanksgiving dinner?, dtype: object\n"
     ]
    }
   ],
   "source": [
    "print(data['What is typically the main dish at your Thanksgiving dinner?'])"
   ]
  },
  {
   "cell_type": "code",
   "execution_count": 36,
   "metadata": {
    "collapsed": false
   },
   "outputs": [
    {
     "name": "stdout",
     "output_type": "stream",
     "text": [
      "4      Yes\n",
      "33     Yes\n",
      "69      No\n",
      "72      No\n",
      "77     Yes\n",
      "145    Yes\n",
      "175    Yes\n",
      "218     No\n",
      "243    Yes\n",
      "275     No\n",
      "393    Yes\n",
      "399    Yes\n",
      "571    Yes\n",
      "594    Yes\n",
      "628     No\n",
      "774     No\n",
      "820     No\n",
      "837    Yes\n",
      "860     No\n",
      "953    Yes\n",
      "Name: Do you typically have gravy?, dtype: object\n"
     ]
    }
   ],
   "source": [
    "print(data['Do you typically have gravy?'])"
   ]
  },
  {
   "cell_type": "code",
   "execution_count": 37,
   "metadata": {
    "collapsed": false
   },
   "outputs": [],
   "source": [
    "apple_isnull = data['Which type of pie is typically served at your Thanksgiving dinner? Please select all that apply. - Apple'].isnull()"
   ]
  },
  {
   "cell_type": "code",
   "execution_count": 38,
   "metadata": {
    "collapsed": false
   },
   "outputs": [
    {
     "name": "stdout",
     "output_type": "stream",
     "text": [
      "4      False\n",
      "33      True\n",
      "69      True\n",
      "72      True\n",
      "77      True\n",
      "145    False\n",
      "175    False\n",
      "218     True\n",
      "243     True\n",
      "275     True\n",
      "393     True\n",
      "399     True\n",
      "571    False\n",
      "594     True\n",
      "628     True\n",
      "774    False\n",
      "820    False\n",
      "837     True\n",
      "860     True\n",
      "953    False\n",
      "Name: Which type of pie is typically served at your Thanksgiving dinner? Please select all that apply. - Apple, dtype: bool\n"
     ]
    }
   ],
   "source": [
    "print(apple_isnull)"
   ]
  },
  {
   "cell_type": "code",
   "execution_count": 39,
   "metadata": {
    "collapsed": false
   },
   "outputs": [],
   "source": [
    "pumpkin_isnull= data['Which type of pie is typically served at your Thanksgiving dinner? Please select all that apply. - Pumpkin'].isnull()\n"
   ]
  },
  {
   "cell_type": "code",
   "execution_count": 40,
   "metadata": {
    "collapsed": true
   },
   "outputs": [],
   "source": [
    "pecan_isnull= data['Which type of pie is typically served at your Thanksgiving dinner? Please select all that apply. - Pecan'].isnull()"
   ]
  },
  {
   "cell_type": "code",
   "execution_count": 41,
   "metadata": {
    "collapsed": false
   },
   "outputs": [
    {
     "name": "stdout",
     "output_type": "stream",
     "text": [
      "4      False\n",
      "33     False\n",
      "69     False\n",
      "72     False\n",
      "77      True\n",
      "145    False\n",
      "175    False\n",
      "218    False\n",
      "243    False\n",
      "275    False\n",
      "393    False\n",
      "399    False\n",
      "571    False\n",
      "594     True\n",
      "628    False\n",
      "774    False\n",
      "820    False\n",
      "837    False\n",
      "860    False\n",
      "953    False\n",
      "dtype: bool\n"
     ]
    }
   ],
   "source": [
    "no_pies = pumpkin_isnull & pecan_isnull & apple_isnull\n",
    "print(no_pies)"
   ]
  },
  {
   "cell_type": "code",
   "execution_count": 42,
   "metadata": {
    "collapsed": false
   },
   "outputs": [
    {
     "data": {
      "text/plain": [
       "array([False, True], dtype=object)"
      ]
     },
     "execution_count": 42,
     "metadata": {},
     "output_type": "execute_result"
    }
   ],
   "source": [
    "no_pies.unique()"
   ]
  },
  {
   "cell_type": "code",
   "execution_count": 43,
   "metadata": {
    "collapsed": false
   },
   "outputs": [
    {
     "data": {
      "text/plain": [
       "dtype('O')"
      ]
     },
     "execution_count": 43,
     "metadata": {},
     "output_type": "execute_result"
    }
   ],
   "source": [
    "data['Age'].dtype"
   ]
  },
  {
   "cell_type": "code",
   "execution_count": 44,
   "metadata": {
    "collapsed": false
   },
   "outputs": [],
   "source": [
    "def converting_singlestringtointegervalue(x):\n",
    "        x = x.replace('+','')\n",
    "        x = x.split(\" \")[0]\n",
    "        return int(x)"
   ]
  },
  {
   "cell_type": "code",
   "execution_count": 45,
   "metadata": {
    "collapsed": false,
    "scrolled": true
   },
   "outputs": [],
   "source": [
    "data['int_age']= data['Age'].apply(converting_singlestringtointegervalue)"
   ]
  },
  {
   "cell_type": "code",
   "execution_count": 46,
   "metadata": {
    "collapsed": false
   },
   "outputs": [
    {
     "data": {
      "text/plain": [
       "count    20.000000\n",
       "mean     32.400000\n",
       "std      14.324804\n",
       "min      18.000000\n",
       "25%      18.000000\n",
       "50%      30.000000\n",
       "75%      33.750000\n",
       "max      60.000000\n",
       "Name: int_age, dtype: float64"
      ]
     },
     "execution_count": 46,
     "metadata": {},
     "output_type": "execute_result"
    }
   ],
   "source": [
    "data['int_age'].describe()"
   ]
  },
  {
   "cell_type": "code",
   "execution_count": 47,
   "metadata": {
    "collapsed": false
   },
   "outputs": [
    {
     "data": {
      "text/plain": [
       "4      $100,000 to $124,999\n",
       "33       $50,000 to $74,999\n",
       "69       $10,000 to $24,999\n",
       "72     Prefer not to answer\n",
       "77     Prefer not to answer\n",
       "145    $125,000 to $149,999\n",
       "175      $75,000 to $99,999\n",
       "218         $200,000 and up\n",
       "243    $100,000 to $124,999\n",
       "275    $100,000 to $124,999\n",
       "393      $25,000 to $49,999\n",
       "399    $125,000 to $149,999\n",
       "571    Prefer not to answer\n",
       "594    $175,000 to $199,999\n",
       "628      $25,000 to $49,999\n",
       "774      $75,000 to $99,999\n",
       "820      $10,000 to $24,999\n",
       "837      $25,000 to $49,999\n",
       "860      $25,000 to $49,999\n",
       "953            $0 to $9,999\n",
       "Name: How much total combined money did all members of your HOUSEHOLD earn last year?, dtype: object"
      ]
     },
     "execution_count": 47,
     "metadata": {},
     "output_type": "execute_result"
    }
   ],
   "source": [
    "data['How much total combined money did all members of your HOUSEHOLD earn last year?']"
   ]
  },
  {
   "cell_type": "code",
   "execution_count": 48,
   "metadata": {
    "collapsed": false
   },
   "outputs": [
    {
     "name": "stderr",
     "output_type": "stream",
     "text": [
      "C:\\Users\\Sadaf\\Anaconda2\\lib\\site-packages\\numpy\\lib\\function_base.py:4116: RuntimeWarning: Invalid value encountered in percentile\n",
      "  interpolation=interpolation)\n"
     ]
    },
    {
     "data": {
      "text/plain": [
       "count        17.000000\n",
       "mean      73235.294118\n",
       "std       59763.627538\n",
       "min           0.000000\n",
       "25%                NaN\n",
       "50%                NaN\n",
       "75%                NaN\n",
       "max      200000.000000\n",
       "Name: int_income, dtype: float64"
      ]
     },
     "execution_count": 48,
     "metadata": {},
     "output_type": "execute_result"
    }
   ],
   "source": [
    "def convertsinglestringtointegerincomevalue(y):\n",
    "    y = y.split(\" \")[0]\n",
    "    if y == \"Prefer\":\n",
    "        return None\n",
    "    y = y.replace('$','')\n",
    "    y = y.replace(',','')\n",
    "    return int(y)\n",
    "data['int_income']= data['How much total combined money did all members of your HOUSEHOLD earn last year?'].apply(convertsinglestringtointegerincomevalue)\n",
    "data['int_income'].describe()\n",
    "    "
   ]
  },
  {
   "cell_type": "code",
   "execution_count": 49,
   "metadata": {
    "collapsed": false
   },
   "outputs": [
    {
     "data": {
      "text/plain": [
       "Thanksgiving is happening at my home--I won't travel at all                         7\n",
       "Thanksgiving is local--it will take place in the town I live in                     4\n",
       "Thanksgiving is out of town but not too far--it's a drive of a few hours or less    4\n",
       "Name: How far will you travel for Thanksgiving?, dtype: int64"
      ]
     },
     "execution_count": 49,
     "metadata": {},
     "output_type": "execute_result"
    }
   ],
   "source": [
    "data[data[\"int_income\"] < 150000][\"How far will you travel for Thanksgiving?\"].value_counts()\n"
   ]
  },
  {
   "cell_type": "code",
   "execution_count": 50,
   "metadata": {
    "collapsed": false
   },
   "outputs": [
    {
     "data": {
      "text/plain": [
       "Thanksgiving is local--it will take place in the town I live in    1\n",
       "Thanksgiving is happening at my home--I won't travel at all        1\n",
       "Name: How far will you travel for Thanksgiving?, dtype: int64"
      ]
     },
     "execution_count": 50,
     "metadata": {},
     "output_type": "execute_result"
    }
   ],
   "source": [
    "data[data[\"int_income\"] > 150000][\"How far will you travel for Thanksgiving?\"].value_counts()\n"
   ]
  },
  {
   "cell_type": "code",
   "execution_count": 51,
   "metadata": {
    "collapsed": false
   },
   "outputs": [
    {
     "data": {
      "text/html": [
       "<div>\n",
       "<table border=\"1\" class=\"dataframe\">\n",
       "  <thead>\n",
       "    <tr style=\"text-align: right;\">\n",
       "      <th>Have you ever attended a \"Friendsgiving?\"</th>\n",
       "      <th>No</th>\n",
       "      <th>Yes</th>\n",
       "    </tr>\n",
       "    <tr>\n",
       "      <th>Have you ever tried to meet up with hometown friends on Thanksgiving night?</th>\n",
       "      <th></th>\n",
       "      <th></th>\n",
       "    </tr>\n",
       "  </thead>\n",
       "  <tbody>\n",
       "    <tr>\n",
       "      <th>No</th>\n",
       "      <td>31.363636</td>\n",
       "      <td>31.0</td>\n",
       "    </tr>\n",
       "    <tr>\n",
       "      <th>Yes</th>\n",
       "      <td>36.000000</td>\n",
       "      <td>30.0</td>\n",
       "    </tr>\n",
       "  </tbody>\n",
       "</table>\n",
       "</div>"
      ],
      "text/plain": [
       "Have you ever attended a \"Friendsgiving?\"                  No   Yes\n",
       "Have you ever tried to meet up with hometown fr...                 \n",
       "No                                                  31.363636  31.0\n",
       "Yes                                                 36.000000  30.0"
      ]
     },
     "execution_count": 51,
     "metadata": {},
     "output_type": "execute_result"
    }
   ],
   "source": [
    "data.pivot_table(\n",
    "    index=\"Have you ever tried to meet up with hometown friends on Thanksgiving night?\", \n",
    "    columns='Have you ever attended a \"Friendsgiving?\"',\n",
    "    values=\"int_age\"\n",
    ")"
   ]
  },
  {
   "cell_type": "code",
   "execution_count": 52,
   "metadata": {
    "collapsed": false
   },
   "outputs": [
    {
     "data": {
      "text/plain": [
       "No     16\n",
       "Yes     4\n",
       "Name: Have you ever attended a \"Friendsgiving?\", dtype: int64"
      ]
     },
     "execution_count": 52,
     "metadata": {},
     "output_type": "execute_result"
    }
   ],
   "source": [
    "data['Have you ever attended a \"Friendsgiving?\"'].value_counts()"
   ]
  },
  {
   "cell_type": "code",
   "execution_count": 53,
   "metadata": {
    "collapsed": false
   },
   "outputs": [
    {
     "data": {
      "text/plain": [
       "Female    10\n",
       "Male       5\n",
       "Name: What is your gender?, dtype: int64"
      ]
     },
     "execution_count": 53,
     "metadata": {},
     "output_type": "execute_result"
    }
   ],
   "source": [
    "data[data[\"int_income\"] < 150000][\"What is your gender?\"].value_counts()"
   ]
  },
  {
   "cell_type": "code",
   "execution_count": 54,
   "metadata": {
    "collapsed": false
   },
   "outputs": [
    {
     "data": {
      "text/plain": [
       "Female    2\n",
       "Name: What is your gender?, dtype: int64"
      ]
     },
     "execution_count": 54,
     "metadata": {},
     "output_type": "execute_result"
    }
   ],
   "source": [
    "data[data[\"int_income\"] > 150000][\"What is your gender?\"].value_counts()"
   ]
  },
  {
   "cell_type": "code",
   "execution_count": 55,
   "metadata": {
    "collapsed": false
   },
   "outputs": [
    {
     "data": {
      "text/plain": [
       "30    1\n",
       "45    1\n",
       "Name: int_age, dtype: int64"
      ]
     },
     "execution_count": 55,
     "metadata": {},
     "output_type": "execute_result"
    }
   ],
   "source": [
    "data[data[\"int_income\"] > 150000][\"int_age\"].value_counts()"
   ]
  },
  {
   "cell_type": "code",
   "execution_count": 56,
   "metadata": {
    "collapsed": false
   },
   "outputs": [
    {
     "data": {
      "text/plain": [
       "30    7\n",
       "18    4\n",
       "60    3\n",
       "45    1\n",
       "Name: int_age, dtype: int64"
      ]
     },
     "execution_count": 56,
     "metadata": {},
     "output_type": "execute_result"
    }
   ],
   "source": [
    "data[data[\"int_income\"] < 150000][\"int_age\"].value_counts()"
   ]
  },
  {
   "cell_type": "code",
   "execution_count": 62,
   "metadata": {
    "collapsed": false
   },
   "outputs": [
    {
     "data": {
      "text/plain": [
       "count                  20\n",
       "unique                  8\n",
       "top       Middle Atlantic\n",
       "freq                    5\n",
       "Name: US Region, dtype: object"
      ]
     },
     "execution_count": 62,
     "metadata": {},
     "output_type": "execute_result"
    }
   ],
   "source": [
    "data[\"US Region\"].describe()"
   ]
  },
  {
   "cell_type": "code",
   "execution_count": null,
   "metadata": {
    "collapsed": true
   },
   "outputs": [],
   "source": []
  }
 ],
 "metadata": {
  "kernelspec": {
   "display_name": "Python [Root]",
   "language": "python",
   "name": "Python [Root]"
  },
  "language_info": {
   "codemirror_mode": {
    "name": "ipython",
    "version": 2
   },
   "file_extension": ".py",
   "mimetype": "text/x-python",
   "name": "python",
   "nbconvert_exporter": "python",
   "pygments_lexer": "ipython2",
   "version": "2.7.12"
  }
 },
 "nbformat": 4,
 "nbformat_minor": 0
}
